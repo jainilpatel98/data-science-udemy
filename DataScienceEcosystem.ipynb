{
 "cells": [
  {
   "cell_type": "markdown",
   "id": "5e1d922d",
   "metadata": {},
   "source": [
    "<H1> Data Science Tools and Ecosystem </h1>"
   ]
  },
  {
   "cell_type": "markdown",
   "id": "89b8de86",
   "metadata": {},
   "source": [
    "In this notebook, Data Science Tools and Ecosystem are summarized."
   ]
  },
  {
   "cell_type": "markdown",
   "id": "a8e767d0",
   "metadata": {},
   "source": [
    "\n",
    "<b>Objectives:</b>\n",
    "\n",
    "<ul>\n",
    "    <li>list popular languages for data science. </li> \n",
    "    <li>list popular libraries for data science. </li> \n",
    "    <li>list popular tools for data science. </li> \n",
    "    </ul>"
   ]
  },
  {
   "cell_type": "markdown",
   "id": "22dc66ad",
   "metadata": {},
   "source": [
    "Some of the popular languages that Data Scientists use are:\n",
    "    <ol>\n",
    "    <li> python </li>\n",
    "    <li> R </li>\n",
    "    <li> java </li>\n",
    "    </ol>"
   ]
  },
  {
   "cell_type": "markdown",
   "id": "54d1e70b",
   "metadata": {},
   "source": [
    "Some of the commonly used libraries used by Data Scientists include:\n",
    "<ol>\n",
    "    <li> pandas </li>\n",
    "    <li> numpy </li>\n",
    "    <li> seaborn </li>\n",
    "    </ol>"
   ]
  },
  {
   "cell_type": "markdown",
   "id": "88757014",
   "metadata": {},
   "source": [
    "Data Science Tools\n",
    "<ol>\n",
    "<li>Jupyter Notebooks:</li>\n",
    "<li>R Studio:</li>\n",
    "<li>spyder</li>\n",
    "</ol>"
   ]
  },
  {
   "cell_type": "markdown",
   "id": "4e904a4f",
   "metadata": {},
   "source": [
    "<h3>Below are a few examples of evaluating arithmetic expressions in Python."
   ]
  },
  {
   "cell_type": "code",
   "execution_count": 3,
   "id": "ac59a39c",
   "metadata": {},
   "outputs": [
    {
     "data": {
      "text/plain": [
       "17"
      ]
     },
     "execution_count": 3,
     "metadata": {},
     "output_type": "execute_result"
    }
   ],
   "source": [
    "(3*4)+5"
   ]
  },
  {
   "cell_type": "code",
   "execution_count": 4,
   "id": "12fb256b",
   "metadata": {},
   "outputs": [
    {
     "data": {
      "text/plain": [
       "3.3333333333333335"
      ]
     },
     "execution_count": 4,
     "metadata": {},
     "output_type": "execute_result"
    }
   ],
   "source": [
    "200/60 #This will convert 200 minutes to hours by diving by 60"
   ]
  },
  {
   "cell_type": "markdown",
   "id": "57e8da19",
   "metadata": {},
   "source": [
    "<H2>Author</H2>\n",
    "Patel"
   ]
  }
 ],
 "metadata": {
  "kernelspec": {
   "display_name": "Python 3 (ipykernel)",
   "language": "python",
   "name": "python3"
  },
  "language_info": {
   "codemirror_mode": {
    "name": "ipython",
    "version": 3
   },
   "file_extension": ".py",
   "mimetype": "text/x-python",
   "name": "python",
   "nbconvert_exporter": "python",
   "pygments_lexer": "ipython3",
   "version": "3.11.5"
  }
 },
 "nbformat": 4,
 "nbformat_minor": 5
}
